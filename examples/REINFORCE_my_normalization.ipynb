{
 "cells": [
  {
   "cell_type": "markdown",
   "metadata": {},
   "source": [
    "# REINFORCE\n",
    "This notebook shows one the most basic RL algorithms - [REINFORCE](http://www-anw.cs.umass.edu/~barto/courses/cs687/williams92simple.pdf).  \n",
    "\n",
    "It was tested on the `CartPole-v1` only."
   ]
  },
  {
   "cell_type": "code",
   "execution_count": 1,
   "metadata": {},
   "outputs": [],
   "source": [
    "import sys\n",
    "from typing import Tuple\n",
    "\n",
    "import gym\n",
    "from IPython import display\n",
    "import matplotlib.pyplot as plt\n",
    "import numpy as np\n",
    "import torch\n",
    "from torch.distributions import Categorical\n",
    "import torch.nn as nn\n",
    "import torch.nn.functional as F\n",
    "\n",
    "\n",
    "sys.path.append(\"../\")\n",
    "\n",
    "from push_ups import agent_base\n",
    "from push_ups.utils import default_network, training_loop"
   ]
  },
  {
   "cell_type": "markdown",
   "metadata": {},
   "source": [
    "## Define Policy and the Agent\n",
    "Policy can be some ML model which takes decisions based on the environment state (or the observation if the state is hidden).  \n",
    "Agent defines how:\n",
    "1. policy is created (`get_policy` method)\n",
    "2. action are taken (`take_action` method)\n",
    "3. policy is updated (`update_policy` method)"
   ]
  },
  {
   "cell_type": "code",
   "execution_count": 2,
   "metadata": {},
   "outputs": [],
   "source": [
    "class PolicyAgent(agent_base.Agent):\n",
    "    def __init__(self, env: gym.core.Env, gamma: float = 0.9, lr=0.01, *args, **kwargs):\n",
    "        \"\"\"\n",
    "        :param: gamma: discount factor used to calculate return\n",
    "        :param: lr: learning rate used in the torch optimizer\n",
    "        \"\"\"\n",
    "        super().__init__(env, gamma, lr, *args, **kwargs)\n",
    "        self.observations = []\n",
    "        self.log_action_probabilities = []\n",
    "        self.optimizer = torch.optim.Adam(self.policy.parameters(), lr=lr)\n",
    "\n",
    "    def take_action(self, observation: np.array, *args, **kwargs):\n",
    "        del args, kwargs  # unused\n",
    "        if not self.discrete_actions:\n",
    "            raise NotImplementedError\n",
    "\n",
    "        observation = torch.from_numpy(observation).float().unsqueeze(0)\n",
    "        probabilities = self.policy(observation)\n",
    "\n",
    "        m = Categorical(probabilities)\n",
    "        action = m.sample()\n",
    "        log_prob = m.log_prob(action)\n",
    "        self.log_action_probabilities.append(log_prob)\n",
    "\n",
    "        return action.item()\n",
    "\n",
    "    def get_policy(self) -> nn.Module:\n",
    "        inputs_no = self.get_observations()\n",
    "        outputs_no = self.get_actions()\n",
    "        discrete_outputs = self.discrete_actions\n",
    "        return default_network.Policy(inputs_no, outputs_no, discrete_outputs)\n",
    "\n",
    "    def update_policy(self, rewards: torch.tensor, *args, **kwargs):\n",
    "        del args, kwargs  # unused\n",
    "\n",
    "        eps = np.finfo(np.float32).eps.item()\n",
    "\n",
    "        returns = self.calculate_returns(rewards)\n",
    "        returns = (returns - returns.mean()) / (returns.std() + eps)\n",
    "\n",
    "        policy_loss = []\n",
    "        for log_prob, R in zip(self.log_action_probabilities, returns):\n",
    "            policy_loss.append(-log_prob * R)\n",
    "\n",
    "        self.optimizer.zero_grad()\n",
    "        policy_loss = torch.cat(policy_loss).sum()\n",
    "        policy_loss.backward()\n",
    "        self.optimizer.step()\n",
    "\n",
    "        del self.log_action_probabilities[:]\n",
    "\n",
    "    def calculate_returns(self, rewards: torch.tensor) -> torch.tensor:\n",
    "        returns = torch.flip(rewards, [0])\n",
    "        for idx, item in enumerate(returns):\n",
    "            if idx == 0:\n",
    "                continue\n",
    "            returns[idx] = item + self.gamma * returns[idx - 1]\n",
    "        return torch.flip(returns, [0])"
   ]
  },
  {
   "cell_type": "markdown",
   "metadata": {},
   "source": [
    "## Define the environmnet and the agent"
   ]
  },
  {
   "cell_type": "code",
   "execution_count": 3,
   "metadata": {},
   "outputs": [],
   "source": [
    "env = gym.make(\"CartPole-v1\")\n",
    "agent = PolicyAgent(env, gamma=0.9, lr=0.01)"
   ]
  },
  {
   "cell_type": "markdown",
   "metadata": {},
   "source": [
    "## Run training"
   ]
  },
  {
   "cell_type": "code",
   "execution_count": 4,
   "metadata": {},
   "outputs": [
    {
     "name": "stdout",
     "output_type": "stream",
     "text": [
      "Episode 0\tLast reward: 17.00\tAverage reward: 17.00\t\n",
      "Episode 50\tLast reward: 32.00\tAverage reward: 42.90\t\n",
      "Episode 100\tLast reward: 102.00\tAverage reward: 96.83\t\n",
      "Episode 150\tLast reward: 246.00\tAverage reward: 250.67\t\n",
      "Episode 200\tLast reward: 134.00\tAverage reward: 168.69\t\n",
      "Episode 250\tLast reward: 140.00\tAverage reward: 125.81\t\n",
      "Episode 300\tLast reward: 141.00\tAverage reward: 118.80\t\n",
      "Episode 350\tLast reward: 197.00\tAverage reward: 140.37\t\n",
      "Episode 400\tLast reward: 85.00\tAverage reward: 312.28\t\n",
      "Episode 450\tLast reward: 196.00\tAverage reward: 198.34\t\n",
      "Episode 500\tLast reward: 400.00\tAverage reward: 294.28\t\n",
      "Episode 550\tLast reward: 71.00\tAverage reward: 102.47\t\n",
      "Episode 600\tLast reward: 112.00\tAverage reward: 82.68\t\n",
      "Episode 650\tLast reward: 224.00\tAverage reward: 216.12\t\n",
      "Episode 700\tLast reward: 102.00\tAverage reward: 120.36\t\n",
      "Episode 750\tLast reward: 325.00\tAverage reward: 236.46\t\n",
      "Episode 800\tLast reward: 261.00\tAverage reward: 275.50\t\n",
      "Episode 850\tLast reward: 500.00\tAverage reward: 410.81\t\n",
      "Episode 900\tLast reward: 193.00\tAverage reward: 357.98\t\n",
      "Episode 950\tLast reward: 226.00\tAverage reward: 282.65\t\n",
      "Episode 1000\tLast reward: 239.00\tAverage reward: 200.24\t\n",
      "Episode 1050\tLast reward: 177.00\tAverage reward: 267.90\t\n",
      "Episode 1100\tLast reward: 190.00\tAverage reward: 169.57\t\n",
      "Episode 1150\tLast reward: 153.00\tAverage reward: 145.81\t\n",
      "Episode 1200\tLast reward: 234.00\tAverage reward: 219.24\t\n",
      "Episode 1250\tLast reward: 500.00\tAverage reward: 371.25\t\n",
      "Episode 1300\tLast reward: 271.00\tAverage reward: 387.37\t\n",
      "Episode 1350\tLast reward: 227.00\tAverage reward: 260.56\t\n",
      "Episode 1400\tLast reward: 147.00\tAverage reward: 169.61\t\n",
      "Episode 1450\tLast reward: 124.00\tAverage reward: 118.25\t\n",
      "Episode 1500\tLast reward: 215.00\tAverage reward: 162.29\t\n",
      "Episode 1550\tLast reward: 120.00\tAverage reward: 152.78\t\n",
      "Episode 1600\tLast reward: 161.00\tAverage reward: 142.22\t\n",
      "Episode 1650\tLast reward: 135.00\tAverage reward: 150.25\t\n",
      "Episode 1700\tLast reward: 135.00\tAverage reward: 159.08\t\n",
      "Episode 1750\tLast reward: 309.00\tAverage reward: 202.15\t\n",
      "Episode 1800\tLast reward: 500.00\tAverage reward: 470.30\t\n",
      "Solved - epiosde 1812! Running reward is now 476.0118659655744 and the last episode runs to 500 time steps!\n"
     ]
    }
   ],
   "source": [
    "running_reward = None\n",
    "for i_episode in range(4000):\n",
    "    agent, rewards = training_loop.run_episode(agent, env)\n",
    "    ep_reward = rewards.sum().item()\n",
    "\n",
    "    if running_reward is None:\n",
    "        running_reward = ep_reward\n",
    "    else:\n",
    "        running_reward = 0.05 * ep_reward + (1 - 0.05) * running_reward\n",
    "    training_loop.print_epiode_stats(i_episode, ep_reward, running_reward, env, rewards)\n",
    "\n",
    "    if running_reward > env.spec.reward_threshold:\n",
    "        break\n",
    "\n",
    "    agent.update_policy(rewards)"
   ]
  },
  {
   "cell_type": "markdown",
   "metadata": {},
   "source": [
    "## See the results"
   ]
  },
  {
   "cell_type": "code",
   "execution_count": 5,
   "metadata": {},
   "outputs": [
    {
     "data": {
      "image/png": "[encoded data removed]",
      "text/plain": [
       "<Figure size 432x288 with 1 Axes>"
      ]
     },
     "metadata": {
      "needs_background": "light"
     },
     "output_type": "display_data"
    }
   ],
   "source": [
    "obs = env.reset()\n",
    "\n",
    "img = plt.imshow(env.render(mode='rgb_array')) # only call this once\n",
    "for i in range(300):\n",
    "    img.set_data(env.render(mode='rgb_array')) # just update the data\n",
    "    display.display(plt.gcf())\n",
    "    display.clear_output(wait=True)\n",
    "    \n",
    "    action = agent(obs)\n",
    "    obs, rew, done, info = env.step(action)\n",
    "    \n",
    "    if done:\n",
    "        break"
   ]
  },
  {
   "cell_type": "code",
   "execution_count": null,
   "metadata": {},
   "outputs": [],
   "source": []
  }
 ],
 "metadata": {
  "kernelspec": {
   "display_name": "Python 3",
   "language": "python",
   "name": "python3"
  },
  "language_info": {
   "codemirror_mode": {
    "name": "ipython",
    "version": 3
   },
   "file_extension": ".py",
   "mimetype": "text/x-python",
   "name": "python",
   "nbconvert_exporter": "python",
   "pygments_lexer": "ipython3",
   "version": "3.7.3"
  }
 },
 "nbformat": 4,
 "nbformat_minor": 4
}
