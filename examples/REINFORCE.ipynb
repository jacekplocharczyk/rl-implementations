{
 "cells": [
  {
   "cell_type": "markdown",
   "metadata": {},
   "source": [
    "# REINFORCE\n",
    "This notebook shows one the most basic RL algorithms - [REINFORCE](http://www-anw.cs.umass.edu/~barto/courses/cs687/williams92simple.pdf).  \n",
    "\n",
    "It was tested on the `CartPole-v1` only."
   ]
  },
  {
   "cell_type": "code",
   "execution_count": 1,
   "metadata": {},
   "outputs": [],
   "source": [
    "import sys\n",
    "from typing import Tuple\n",
    "\n",
    "import gym\n",
    "from IPython import display\n",
    "import matplotlib.pyplot as plt\n",
    "import numpy as np\n",
    "import torch\n",
    "from torch.distributions import Categorical\n",
    "import torch.nn as nn\n",
    "import torch.nn.functional as F\n",
    "\n",
    "sys.path.append(\"../\")\n",
    "\n",
    "\n",
    "from base import agent_base"
   ]
  },
  {
   "cell_type": "markdown",
   "metadata": {},
   "source": [
    "## Define Policy and the Agent\n",
    "Policy can be some ML model which takes decisions based on the environment state (or the observation if the state is hidden).  \n",
    "Agent defines how:\n",
    "1. policy is created (`get_policy` method)\n",
    "2. action are taken (`take_action` method)\n",
    "3. policy is updated (`update_policy` method)"
   ]
  },
  {
   "cell_type": "code",
   "execution_count": 2,
   "metadata": {},
   "outputs": [],
   "source": [
    "class Policy(nn.Module):\n",
    "    def __init__(self, inputs_no: int, output_no: int, discrete_outputs: bool):\n",
    "        super().__init__()\n",
    "        self.discrete_outputs = discrete_outputs\n",
    "        self.fc1 = nn.Linear(inputs_no, 256)\n",
    "        self.dropout = nn.Dropout(p=0.8)\n",
    "        self.fc2 = nn.Linear(256, output_no)\n",
    "\n",
    "    def forward(self, x):\n",
    "        x = self.fc1(x)\n",
    "        x = self.dropout(x)\n",
    "        x = F.relu(x)\n",
    "        x = self.fc2(x)\n",
    "        if self.discrete_outputs:\n",
    "            x = F.softmax(x, dim=1)\n",
    "\n",
    "        return x\n",
    "\n",
    "\n",
    "class PolicyAgent(agent_base.Agent):\n",
    "    def __init__(self, env: gym.core.Env, gamma: float = 0.9, lr=0.01, *args, **kwargs):\n",
    "        \"\"\"\n",
    "        :param: gamma: discount factor used to calculate return\n",
    "        :param: lr: learning rate used in the torch optimizer\n",
    "        \"\"\"\n",
    "        super().__init__(env, gamma, lr, *args, **kwargs)\n",
    "        self.observations = []\n",
    "        self.log_action_probabilities = []\n",
    "        self.optimizer = torch.optim.Adam(self.policy.parameters(), lr=lr)\n",
    "\n",
    "    def take_action(self, observation: np.array, *args, **kwargs):\n",
    "        del args, kwargs  # unused\n",
    "\n",
    "        observation = torch.from_numpy(observation).float().unsqueeze(0)\n",
    "        probabilities = self.policy(observation)\n",
    "\n",
    "        m = Categorical(probabilities)\n",
    "        action = m.sample()\n",
    "        log_prob = m.log_prob(action)\n",
    "        self.log_action_probabilities.append(log_prob)\n",
    "\n",
    "        return action.item()\n",
    "\n",
    "    def get_policy(self) -> nn.Module:\n",
    "        inputs_no = self.get_observations()\n",
    "        outputs_no = self.get_actions()\n",
    "        discrete_outputs = self.discrete_actions\n",
    "        return Policy(inputs_no, outputs_no, discrete_outputs)\n",
    "\n",
    "    def update_policy(self, rewards: torch.tensor, *args, **kwargs):\n",
    "        del args, kwargs  # unused\n",
    "\n",
    "        eps = np.finfo(np.float32).eps.item()\n",
    "\n",
    "        returns = self.calculate_returns(rewards)\n",
    "        returns = (returns - returns.mean()) / (returns.std() + eps)\n",
    "\n",
    "        policy_loss = []\n",
    "        for log_prob, R in zip(self.log_action_probabilities, returns):\n",
    "            policy_loss.append(-log_prob * R)\n",
    "\n",
    "        self.optimizer.zero_grad()\n",
    "        policy_loss = torch.cat(policy_loss).sum()\n",
    "        policy_loss.backward()\n",
    "        self.optimizer.step()\n",
    "\n",
    "        del self.log_action_probabilities[:]\n",
    "\n",
    "    def calculate_returns(self, rewards: torch.tensor) -> torch.tensor:\n",
    "        returns = torch.flip(rewards, [0])\n",
    "        for idx, item in enumerate(returns):\n",
    "            if idx == 0:\n",
    "                continue\n",
    "            returns[idx] = item + self.gamma * returns[idx - 1]\n",
    "        return torch.flip(returns, [0])"
   ]
  },
  {
   "cell_type": "markdown",
   "metadata": {},
   "source": [
    "## Define the environmnet and the agent"
   ]
  },
  {
   "cell_type": "code",
   "execution_count": 3,
   "metadata": {},
   "outputs": [],
   "source": [
    "env = gym.make('CartPole-v1')\n",
    "agent = PolicyAgent(env, gamma=0.9, lr=0.01)"
   ]
  },
  {
   "cell_type": "code",
   "execution_count": 4,
   "metadata": {},
   "outputs": [],
   "source": [
    "def run_episode(\n",
    "    agent: agent_base.Agent, env: gym.Env\n",
    ") -> Tuple[agent_base.Agent, torch.Tensor]:\n",
    "    \"\"\"\n",
    "    Perform one simulation (episode) to collect data for the policy update.\n",
    "    \"\"\"\n",
    "    obs = env.reset()\n",
    "    rewards = torch.Tensor(0, 1).float()\n",
    "\n",
    "    for t in range(1, 10000):  # Don't infinite loop while learning\n",
    "        action = agent(obs)\n",
    "        obs, reward, done, _ = env.step(action)\n",
    "        rewards = torch.cat([rewards, torch.tensor(reward).view(1, 1)])\n",
    "\n",
    "        if done:\n",
    "            break\n",
    "\n",
    "    return agent, rewards\n",
    "\n",
    "\n",
    "def print_epiode_stats(\n",
    "    i_episode: int,\n",
    "    epiosde_reward: float,\n",
    "    running_reward: float,\n",
    "    env: gym.Env,\n",
    "    rewards: torch.Tensor,\n",
    "):\n",
    "    if i_episode % 50 == 0:\n",
    "        print(\n",
    "            \"Episode {}\\tLast reward: {:.2f}\\tAverage reward: {:.2f}\\t\".format(\n",
    "                i_episode, ep_reward, running_reward\n",
    "            )\n",
    "        )\n",
    "\n",
    "    if running_reward > env.spec.reward_threshold:\n",
    "        t = rewards.size()[0]\n",
    "        print(\n",
    "            \"Solved - epiosde {}! Running reward is now {} and \"\n",
    "            \"the last episode runs to {} time steps!\".format(\n",
    "                i_episode, running_reward, t\n",
    "            )\n",
    "        )"
   ]
  },
  {
   "cell_type": "markdown",
   "metadata": {},
   "source": [
    "## Run training"
   ]
  },
  {
   "cell_type": "code",
   "execution_count": 5,
   "metadata": {},
   "outputs": [
    {
     "name": "stdout",
     "output_type": "stream",
     "text": [
      "Episode 0\tLast reward: 10.00\tAverage reward: 10.00\t\n",
      "Episode 50\tLast reward: 105.00\tAverage reward: 78.98\t\n",
      "Episode 100\tLast reward: 122.00\tAverage reward: 222.01\t\n",
      "Episode 150\tLast reward: 167.00\tAverage reward: 193.61\t\n",
      "Episode 200\tLast reward: 500.00\tAverage reward: 301.65\t\n",
      "Episode 250\tLast reward: 140.00\tAverage reward: 207.47\t\n",
      "Episode 300\tLast reward: 272.00\tAverage reward: 240.10\t\n",
      "Episode 350\tLast reward: 126.00\tAverage reward: 180.75\t\n",
      "Episode 400\tLast reward: 125.00\tAverage reward: 217.01\t\n",
      "Episode 450\tLast reward: 116.00\tAverage reward: 132.87\t\n",
      "Episode 500\tLast reward: 159.00\tAverage reward: 98.61\t\n",
      "Episode 550\tLast reward: 164.00\tAverage reward: 153.14\t\n",
      "Episode 600\tLast reward: 201.00\tAverage reward: 306.77\t\n",
      "Episode 650\tLast reward: 135.00\tAverage reward: 168.96\t\n",
      "Episode 700\tLast reward: 208.00\tAverage reward: 342.04\t\n",
      "Episode 750\tLast reward: 347.00\tAverage reward: 341.34\t\n",
      "Episode 800\tLast reward: 113.00\tAverage reward: 165.69\t\n",
      "Episode 850\tLast reward: 228.00\tAverage reward: 182.59\t\n",
      "Episode 900\tLast reward: 192.00\tAverage reward: 229.79\t\n",
      "Episode 950\tLast reward: 245.00\tAverage reward: 337.24\t\n",
      "Episode 1000\tLast reward: 155.00\tAverage reward: 201.31\t\n",
      "Episode 1050\tLast reward: 194.00\tAverage reward: 192.00\t\n",
      "Episode 1100\tLast reward: 184.00\tAverage reward: 217.73\t\n",
      "Episode 1150\tLast reward: 188.00\tAverage reward: 210.50\t\n",
      "Episode 1200\tLast reward: 123.00\tAverage reward: 124.14\t\n",
      "Episode 1250\tLast reward: 209.00\tAverage reward: 173.11\t\n",
      "Episode 1300\tLast reward: 97.00\tAverage reward: 112.53\t\n",
      "Episode 1350\tLast reward: 156.00\tAverage reward: 171.18\t\n",
      "Episode 1400\tLast reward: 177.00\tAverage reward: 185.55\t\n",
      "Episode 1450\tLast reward: 208.00\tAverage reward: 187.20\t\n",
      "Episode 1500\tLast reward: 500.00\tAverage reward: 361.12\t\n",
      "Episode 1550\tLast reward: 276.00\tAverage reward: 315.97\t\n",
      "Episode 1600\tLast reward: 99.00\tAverage reward: 145.97\t\n",
      "Episode 1650\tLast reward: 118.00\tAverage reward: 118.20\t\n",
      "Episode 1700\tLast reward: 210.00\tAverage reward: 157.89\t\n",
      "Episode 1750\tLast reward: 140.00\tAverage reward: 170.73\t\n",
      "Episode 1800\tLast reward: 428.00\tAverage reward: 216.46\t\n",
      "Episode 1850\tLast reward: 464.00\tAverage reward: 419.66\t\n",
      "Episode 1900\tLast reward: 158.00\tAverage reward: 190.63\t\n",
      "Episode 1950\tLast reward: 199.00\tAverage reward: 168.63\t\n",
      "Episode 2000\tLast reward: 161.00\tAverage reward: 163.81\t\n",
      "Episode 2050\tLast reward: 195.00\tAverage reward: 220.91\t\n",
      "Episode 2100\tLast reward: 500.00\tAverage reward: 387.06\t\n",
      "Solved - epiosde 2130! Running reward is now 475.7584760314054 and the last episode runs to 500 time steps!\n"
     ]
    }
   ],
   "source": [
    "running_reward = None\n",
    "for i_episode in range(4000):\n",
    "    agent, rewards = run_episode(agent, env)\n",
    "    ep_reward = rewards.sum().item()\n",
    "\n",
    "    if running_reward is None:\n",
    "        running_reward = ep_reward\n",
    "    else:\n",
    "        running_reward = 0.05 * ep_reward + (1 - 0.05) * running_reward\n",
    "    print_epiode_stats(i_episode, ep_reward, running_reward, env, rewards)\n",
    "\n",
    "    if running_reward > env.spec.reward_threshold:\n",
    "        break\n",
    "\n",
    "    agent.update_policy(rewards)"
   ]
  },
  {
   "cell_type": "markdown",
   "metadata": {},
   "source": [
    "## See the results"
   ]
  },
  {
   "cell_type": "code",
   "execution_count": 6,
   "metadata": {},
   "outputs": [
    {
     "data": {
      "image/png": "[encoded data removed]",
      "text/plain": [
       "<Figure size 432x288 with 1 Axes>"
      ]
     },
     "metadata": {
      "needs_background": "light"
     },
     "output_type": "display_data"
    }
   ],
   "source": [
    "obs = env.reset()\n",
    "\n",
    "img = plt.imshow(env.render(mode='rgb_array')) # only call this once\n",
    "for i in range(300):\n",
    "    img.set_data(env.render(mode='rgb_array')) # just update the data\n",
    "    display.display(plt.gcf())\n",
    "    display.clear_output(wait=True)\n",
    "    \n",
    "    action = agent(obs)\n",
    "    obs, rew, done, info = env.step(action)\n",
    "    \n",
    "    if done:\n",
    "        break"
   ]
  }
 ],
 "metadata": {
  "kernelspec": {
   "display_name": "Python 3",
   "language": "python",
   "name": "python3"
  },
  "language_info": {
   "codemirror_mode": {
    "name": "ipython",
    "version": 3
   },
   "file_extension": ".py",
   "mimetype": "text/x-python",
   "name": "python",
   "nbconvert_exporter": "python",
   "pygments_lexer": "ipython3",
   "version": "3.7.3"
  }
 },
 "nbformat": 4,
 "nbformat_minor": 4
}
