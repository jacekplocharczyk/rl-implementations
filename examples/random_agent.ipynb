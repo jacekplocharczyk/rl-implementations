{
 "cells": [
  {
   "cell_type": "markdown",
   "metadata": {},
   "source": [
    "# Random Agent\n",
    "This notebook has been made for testing if framework is compatible with the specific OpenAI gym environmnets.\n",
    "\n",
    "Results at the end of notebook.\n",
    "\n",
    "Notes:  \n",
    "`Defender` cannot initialize any environmnet."
   ]
  },
  {
   "cell_type": "code",
   "execution_count": 5,
   "metadata": {},
   "outputs": [],
   "source": [
    "classic_envs = [\n",
    "    \"CartPole-v0\",\n",
    "    \"CartPole-v1\",\n",
    "    \"MountainCar-v0\",\n",
    "    \"MountainCarContinuous-v0\",\n",
    "    \"Pendulum-v0\",\n",
    "    \"Acrobot-v1\",\n",
    "]\n",
    "\n",
    "atari_raw = [\n",
    "    \"adventure\",\n",
    "    \"air_raid\",\n",
    "    \"alien\",\n",
    "    \"amidar\",\n",
    "    \"assault\",\n",
    "    \"asterix\",\n",
    "    \"asteroids\",\n",
    "    \"atlantis\",\n",
    "    \"bank_heist\",\n",
    "    \"battle_zone\",\n",
    "    \"beam_rider\",\n",
    "    \"berzerk\",\n",
    "    \"bowling\",\n",
    "    \"boxing\",\n",
    "    \"breakout\",\n",
    "    \"carnival\",\n",
    "    \"centipede\",\n",
    "    \"chopper_command\",\n",
    "    \"crazy_climber\",\n",
    "    \"defender\",\n",
    "    \"demon_attack\",\n",
    "    \"double_dunk\",\n",
    "    \"elevator_action\",\n",
    "    \"enduro\",\n",
    "    \"fishing_derby\",\n",
    "    \"freeway\",\n",
    "    \"frostbite\",\n",
    "    \"gopher\",\n",
    "    \"gravitar\",\n",
    "    \"hero\",\n",
    "    \"ice_hockey\",\n",
    "    \"jamesbond\",\n",
    "    \"journey_escape\",\n",
    "    \"kangaroo\",\n",
    "    \"krull\",\n",
    "    \"kung_fu_master\",\n",
    "    \"montezuma_revenge\",\n",
    "    \"ms_pacman\",\n",
    "    \"name_this_game\",\n",
    "    \"phoenix\",\n",
    "    \"pitfall\",\n",
    "    \"pong\",\n",
    "    \"pooyan\",\n",
    "    \"private_eye\",\n",
    "    \"qbert\",\n",
    "    \"riverraid\",\n",
    "    \"road_runner\",\n",
    "    \"robotank\",\n",
    "    \"seaquest\",\n",
    "    \"skiing\",\n",
    "    \"solaris\",\n",
    "    \"space_invaders\",\n",
    "    \"star_gunner\",\n",
    "    \"tennis\",\n",
    "    \"time_pilot\",\n",
    "    \"tutankham\",\n",
    "    \"up_n_down\",\n",
    "    \"venture\",\n",
    "    \"video_pinball\",\n",
    "    \"wizard_of_wor\",\n",
    "    \"yars_revenge\",\n",
    "    \"zaxxon\",\n",
    "]\n",
    "atari = []\n",
    "for game in atari_raw:\n",
    "    atari.append(\"\".join([part.capitalize() for part in game.split(\"_\")]))\n",
    "\n",
    "atari_ram_v0 = [game + \"-ram-v0\" for game in atari]\n",
    "atari_ram_v4 = [game + \"-ram-v4\" for game in atari]\n",
    "atari_v0 = [game + \"-v0\" for game in atari]\n",
    "atari_v4 = [game + \"-v4\" for game in atari]\n",
    "black_list = [\"Defender-ram-v0\", \"Defender-ram-v4\", \"Defender-v0\", \"Defender-v4\"]  # see https://github.com/openai/gym/issues/1698"
   ]
  },
  {
   "cell_type": "code",
   "execution_count": 6,
   "metadata": {},
   "outputs": [],
   "source": [
    "import sys\n",
    "sys.path.append('../')\n",
    "\n",
    "import gym\n",
    "from IPython import display\n",
    "import matplotlib.pyplot as plt\n",
    "import numpy as np\n",
    "\n",
    "\n",
    "from base import agent_base"
   ]
  },
  {
   "cell_type": "code",
   "execution_count": 7,
   "metadata": {},
   "outputs": [],
   "source": [
    "env = gym.make('CartPole-v0')\n",
    "agent = agent_base.RandomAgent(env, gamma=0.9)"
   ]
  },
  {
   "cell_type": "code",
   "execution_count": 8,
   "metadata": {},
   "outputs": [
    {
     "data": {
      "image/png": "[encoded data removed]",
      "text/plain": [
       "<Figure size 432x288 with 1 Axes>"
      ]
     },
     "metadata": {
      "needs_background": "light"
     },
     "output_type": "display_data"
    }
   ],
   "source": [
    "obs = env.reset()\n",
    "\n",
    "img = plt.imshow(env.render(mode=\"rgb_array\"))  # only call this once\n",
    "for i in range(5):\n",
    "    img.set_data(env.render(mode=\"rgb_array\"))  # just update the data\n",
    "    display.display(plt.gcf())\n",
    "    display.clear_output(wait=True)\n",
    "\n",
    "    action = agent(obs)\n",
    "    obs, rew, done, info = env.step(action)\n",
    "\n",
    "    if done:\n",
    "        break"
   ]
  },
  {
   "cell_type": "code",
   "execution_count": 9,
   "metadata": {},
   "outputs": [
    {
     "name": "stdout",
     "output_type": "stream",
     "text": [
      "Working envs: ['CartPole-v0', 'CartPole-v1', 'MountainCar-v0', 'MountainCarContinuous-v0', 'Pendulum-v0', 'Acrobot-v1', 'Adventure-ram-v0', 'AirRaid-ram-v0', 'Alien-ram-v0', 'Amidar-ram-v0', 'Assault-ram-v0', 'Asterix-ram-v0', 'Asteroids-ram-v0', 'Atlantis-ram-v0', 'BankHeist-ram-v0', 'BattleZone-ram-v0', 'BeamRider-ram-v0', 'Berzerk-ram-v0', 'Bowling-ram-v0', 'Boxing-ram-v0', 'Breakout-ram-v0', 'Carnival-ram-v0', 'Centipede-ram-v0', 'ChopperCommand-ram-v0', 'CrazyClimber-ram-v0', 'DemonAttack-ram-v0', 'DoubleDunk-ram-v0', 'ElevatorAction-ram-v0', 'Enduro-ram-v0', 'FishingDerby-ram-v0', 'Freeway-ram-v0', 'Frostbite-ram-v0', 'Gopher-ram-v0', 'Gravitar-ram-v0', 'Hero-ram-v0', 'IceHockey-ram-v0', 'Jamesbond-ram-v0', 'JourneyEscape-ram-v0', 'Kangaroo-ram-v0', 'Krull-ram-v0', 'KungFuMaster-ram-v0', 'MontezumaRevenge-ram-v0', 'MsPacman-ram-v0', 'NameThisGame-ram-v0', 'Phoenix-ram-v0', 'Pitfall-ram-v0', 'Pong-ram-v0', 'Pooyan-ram-v0', 'PrivateEye-ram-v0', 'Qbert-ram-v0', 'Riverraid-ram-v0', 'RoadRunner-ram-v0', 'Robotank-ram-v0', 'Seaquest-ram-v0', 'Skiing-ram-v0', 'Solaris-ram-v0', 'SpaceInvaders-ram-v0', 'StarGunner-ram-v0', 'Tennis-ram-v0', 'TimePilot-ram-v0', 'Tutankham-ram-v0', 'UpNDown-ram-v0', 'Venture-ram-v0', 'VideoPinball-ram-v0', 'WizardOfWor-ram-v0', 'YarsRevenge-ram-v0', 'Zaxxon-ram-v0', 'Adventure-ram-v4', 'AirRaid-ram-v4', 'Alien-ram-v4', 'Amidar-ram-v4', 'Assault-ram-v4', 'Asterix-ram-v4', 'Asteroids-ram-v4', 'Atlantis-ram-v4', 'BankHeist-ram-v4', 'BattleZone-ram-v4', 'BeamRider-ram-v4', 'Berzerk-ram-v4', 'Bowling-ram-v4', 'Boxing-ram-v4', 'Breakout-ram-v4', 'Carnival-ram-v4', 'Centipede-ram-v4', 'ChopperCommand-ram-v4', 'CrazyClimber-ram-v4', 'DemonAttack-ram-v4', 'DoubleDunk-ram-v4', 'ElevatorAction-ram-v4', 'Enduro-ram-v4', 'FishingDerby-ram-v4', 'Freeway-ram-v4', 'Frostbite-ram-v4', 'Gopher-ram-v4', 'Gravitar-ram-v4', 'Hero-ram-v4', 'IceHockey-ram-v4', 'Jamesbond-ram-v4', 'JourneyEscape-ram-v4', 'Kangaroo-ram-v4', 'Krull-ram-v4', 'KungFuMaster-ram-v4', 'MontezumaRevenge-ram-v4', 'MsPacman-ram-v4', 'NameThisGame-ram-v4', 'Phoenix-ram-v4', 'Pitfall-ram-v4', 'Pong-ram-v4', 'Pooyan-ram-v4', 'PrivateEye-ram-v4', 'Qbert-ram-v4', 'Riverraid-ram-v4', 'RoadRunner-ram-v4', 'Robotank-ram-v4', 'Seaquest-ram-v4', 'Skiing-ram-v4', 'Solaris-ram-v4', 'SpaceInvaders-ram-v4', 'StarGunner-ram-v4', 'Tennis-ram-v4', 'TimePilot-ram-v4', 'Tutankham-ram-v4', 'UpNDown-ram-v4', 'Venture-ram-v4', 'VideoPinball-ram-v4', 'WizardOfWor-ram-v4', 'YarsRevenge-ram-v4', 'Zaxxon-ram-v4', 'Adventure-v0', 'AirRaid-v0', 'Alien-v0', 'Amidar-v0', 'Assault-v0', 'Asterix-v0', 'Asteroids-v0', 'Atlantis-v0', 'BankHeist-v0', 'BattleZone-v0', 'BeamRider-v0', 'Berzerk-v0', 'Bowling-v0', 'Boxing-v0', 'Breakout-v0', 'Carnival-v0', 'Centipede-v0', 'ChopperCommand-v0', 'CrazyClimber-v0', 'DemonAttack-v0', 'DoubleDunk-v0', 'ElevatorAction-v0', 'Enduro-v0', 'FishingDerby-v0', 'Freeway-v0', 'Frostbite-v0', 'Gopher-v0', 'Gravitar-v0', 'Hero-v0', 'IceHockey-v0', 'Jamesbond-v0', 'JourneyEscape-v0', 'Kangaroo-v0', 'Krull-v0', 'KungFuMaster-v0', 'MontezumaRevenge-v0', 'MsPacman-v0', 'NameThisGame-v0', 'Phoenix-v0', 'Pitfall-v0', 'Pong-v0', 'Pooyan-v0', 'PrivateEye-v0', 'Qbert-v0', 'Riverraid-v0', 'RoadRunner-v0', 'Robotank-v0', 'Seaquest-v0', 'Skiing-v0', 'Solaris-v0', 'SpaceInvaders-v0', 'StarGunner-v0', 'Tennis-v0', 'TimePilot-v0', 'Tutankham-v0', 'UpNDown-v0', 'Venture-v0', 'VideoPinball-v0', 'WizardOfWor-v0', 'YarsRevenge-v0', 'Zaxxon-v0', 'Adventure-v4', 'AirRaid-v4', 'Alien-v4', 'Amidar-v4', 'Assault-v4', 'Asterix-v4', 'Asteroids-v4', 'Atlantis-v4', 'BankHeist-v4', 'BattleZone-v4', 'BeamRider-v4', 'Berzerk-v4', 'Bowling-v4', 'Boxing-v4', 'Breakout-v4', 'Carnival-v4', 'Centipede-v4', 'ChopperCommand-v4', 'CrazyClimber-v4', 'DemonAttack-v4', 'DoubleDunk-v4', 'ElevatorAction-v4', 'Enduro-v4', 'FishingDerby-v4', 'Freeway-v4', 'Frostbite-v4', 'Gopher-v4', 'Gravitar-v4', 'Hero-v4', 'IceHockey-v4', 'Jamesbond-v4', 'JourneyEscape-v4', 'Kangaroo-v4', 'Krull-v4', 'KungFuMaster-v4', 'MontezumaRevenge-v4', 'MsPacman-v4', 'NameThisGame-v4', 'Phoenix-v4', 'Pitfall-v4', 'Pong-v4', 'Pooyan-v4', 'PrivateEye-v4', 'Qbert-v4', 'Riverraid-v4', 'RoadRunner-v4', 'Robotank-v4', 'Seaquest-v4', 'Skiing-v4', 'Solaris-v4', 'SpaceInvaders-v4', 'StarGunner-v4', 'Tennis-v4', 'TimePilot-v4', 'Tutankham-v4', 'UpNDown-v4', 'Venture-v4', 'VideoPinball-v4', 'WizardOfWor-v4', 'YarsRevenge-v4', 'Zaxxon-v4']\n",
      "\n",
      "\n",
      "\n",
      "Not working envs: []\n"
     ]
    }
   ],
   "source": [
    "envs = [*classic_envs, *atari_ram_v0, *atari_ram_v4, *atari_v0, *atari_v4]\n",
    "\n",
    "working = []\n",
    "not_working = []\n",
    "def loop(agent, env):\n",
    "    obs = env.reset()\n",
    "    for i in range(5):\n",
    "        action = agent(obs)\n",
    "        obs, rew, done, info = env.step(action)\n",
    "        if done: \n",
    "            break\n",
    "\n",
    "for e in envs:\n",
    "    if e in black_list:\n",
    "        continue\n",
    "    env = gym.make(e)\n",
    "    agent = agent_base.RandomAgent(env, gamma=0.9)\n",
    "    \n",
    "    try:\n",
    "        loop(agent, env)\n",
    "    except Exception:\n",
    "        not_working.append(e)\n",
    "    else:\n",
    "        working.append(e)\n",
    "\n",
    "print(f\"Working envs: {working}\\n\\n\\n\")\n",
    "print(f\"Not working envs: {not_working}\")"
   ]
  },
  {
   "cell_type": "code",
   "execution_count": null,
   "metadata": {},
   "outputs": [],
   "source": []
  }
 ],
 "metadata": {
  "kernelspec": {
   "display_name": "Python 3",
   "language": "python",
   "name": "python3"
  },
  "language_info": {
   "codemirror_mode": {
    "name": "ipython",
    "version": 3
   },
   "file_extension": ".py",
   "mimetype": "text/x-python",
   "name": "python",
   "nbconvert_exporter": "python",
   "pygments_lexer": "ipython3",
   "version": "3.7.3"
  }
 },
 "nbformat": 4,
 "nbformat_minor": 4
}
