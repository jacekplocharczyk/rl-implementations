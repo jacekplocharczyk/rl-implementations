{
 "cells": [
  {
   "cell_type": "markdown",
   "metadata": {},
   "source": [
    "# REINFORCE\n",
    "This notebook shows one the most basic RL algorithms - [REINFORCE](http://www-anw.cs.umass.edu/~barto/courses/cs687/williams92simple.pdf).  \n",
    "\n",
    "It was tested on the `CartPole-v1` only."
   ]
  },
  {
   "cell_type": "code",
   "execution_count": 1,
   "metadata": {},
   "outputs": [],
   "source": [
    "!export PYTHONPATH=$PYTHONPATH:/projects/rl-implementations\n",
    "\n",
    "from typing import Tuple\n",
    "\n",
    "import gym\n",
    "from IPython import display\n",
    "import matplotlib.pyplot as plt\n",
    "import numpy as np\n",
    "import torch\n",
    "from torch.distributions import Categorical\n",
    "import torch.nn as nn\n",
    "import torch.nn.functional as F\n",
    "\n",
    "from base import agent_base"
   ]
  },
  {
   "cell_type": "markdown",
   "metadata": {},
   "source": [
    "## Define Policy and the Agent\n",
    "Policy can be some ML model which takes decisions based on the environment state (or the observation if the state is hidden).  \n",
    "Agent defines how:\n",
    "1. policy is created (`get_policy` method)\n",
    "2. action are taken (`take_action` method)\n",
    "3. policy is updated (`update_policy` method)"
   ]
  },
  {
   "cell_type": "code",
   "execution_count": 2,
   "metadata": {},
   "outputs": [],
   "source": [
    "class Policy(nn.Module):\n",
    "    def __init__(self, inputs_no: int, output_no: int, discrete_outputs: bool):\n",
    "        super().__init__()\n",
    "        self.discrete_outputs = discrete_outputs\n",
    "        self.fc1 = nn.Linear(inputs_no, 256)\n",
    "        self.dropout = nn.Dropout(p=0.8)\n",
    "        self.fc2 = nn.Linear(256, output_no)\n",
    "        \n",
    "    def forward(self, x):\n",
    "        x = self.fc1(x)\n",
    "        x = self.dropout(x)\n",
    "        x = F.relu(x)\n",
    "        x = self.fc2(x)\n",
    "        if self.discrete_outputs:\n",
    "            x = F.softmax(x, dim=1)\n",
    "        \n",
    "        return x\n",
    "\n",
    "\n",
    "class PolicyAgent(agent_base.Agent):\n",
    "    def __init__(self, env: gym.core.Env, gamma: float = 0.9, lr=0.01, *args, **kwargs):\n",
    "        \"\"\"\n",
    "        :param: gamma: discount factor used to calculate return\n",
    "        :param: lr: learning rate used in the torch optimizer\n",
    "        \"\"\"\n",
    "        super().__init__(env, gamma, lr, *args, **kwargs)        \n",
    "        self.observations = []\n",
    "        self.log_action_probabilities = []\n",
    "        self.optimizer = torch.optim.Adam(self.policy.parameters(), lr=lr)\n",
    "    \n",
    "    def take_action(self, observation: np.array, *args, **kwargs):\n",
    "        del args, kwargs  # unused\n",
    "        \n",
    "        observation = torch.from_numpy(observation).float().unsqueeze(0)\n",
    "        probabilities = self.policy(observation)\n",
    "        \n",
    "        m = Categorical(probabilities)\n",
    "        action = m.sample()\n",
    "        log_prob = m.log_prob(action)\n",
    "        self.log_action_probabilities.append(log_prob)\n",
    "        \n",
    "        return action.item()\n",
    "    \n",
    "    def get_policy(self) -> nn.Module:\n",
    "        inputs_no = self.get_observations()\n",
    "        outputs_no = self.get_actions()\n",
    "        discrete_outputs = self.discrete_actions\n",
    "        return Policy(inputs_no, outputs_no, discrete_outputs)\n",
    "    \n",
    "    def update_policy(self, rewards: torch.tensor, *args, **kwargs):\n",
    "        del args, kwargs  # unused\n",
    "        \n",
    "        eps = np.finfo(np.float32).eps.item()\n",
    "\n",
    "        returns = self.calculate_returns(rewards)\n",
    "        returns = (returns - returns.mean()) / (returns.std() + eps)\n",
    "        \n",
    "        policy_loss = []\n",
    "        for log_prob, R in zip(self.log_action_probabilities, returns):\n",
    "            policy_loss.append(-log_prob * R)\n",
    "                    \n",
    "        self.optimizer.zero_grad()\n",
    "        policy_loss = torch.cat(policy_loss).sum()\n",
    "        policy_loss.backward()\n",
    "        self.optimizer.step()\n",
    "        \n",
    "        del self.log_action_probabilities[:]\n",
    "            \n",
    "    def calculate_returns(self, rewards: torch.tensor) -> torch.tensor:\n",
    "        returns = torch.flip(rewards, [0])\n",
    "        for idx, item in enumerate(returns):\n",
    "            if idx == 0:\n",
    "                continue\n",
    "            returns[idx] = item + self.gamma * returns[idx - 1]\n",
    "        return torch.flip(returns, [0])"
   ]
  },
  {
   "cell_type": "markdown",
   "metadata": {},
   "source": [
    "## Define the environmnet and the agent"
   ]
  },
  {
   "cell_type": "code",
   "execution_count": 3,
   "metadata": {},
   "outputs": [],
   "source": [
    "env = gym.make('CartPole-v1')\n",
    "agent = PolicyAgent(env, gamma=0.9, lr=0.01)"
   ]
  },
  {
   "cell_type": "code",
   "execution_count": 4,
   "metadata": {},
   "outputs": [],
   "source": [
    "def run_episode(agent: agent_base.Agent, env: gym.Env) -> Tuple[agent_base.Agent, torch.Tensor]:\n",
    "    \"\"\"\n",
    "    Perform one simulation (episode) to collect data for the policy update.\n",
    "    \"\"\"\n",
    "    obs = env.reset()\n",
    "    rewards = torch.Tensor(0, 1).float()\n",
    "    \n",
    "    for t in range(1, 10000):  # Don't infinite loop while learning\n",
    "        action = agent(obs)\n",
    "        obs, reward, done, _ = env.step(action)\n",
    "        rewards = torch.cat([rewards, torch.tensor(reward).view(1, 1)])\n",
    "        \n",
    "        if done:\n",
    "            break\n",
    "        \n",
    "    return agent, rewards\n",
    "            \n",
    "\n",
    "def print_epiode_stats(i_episode: int, epiosde_reward: float, running_reward: float, \n",
    "                       env: gym.Env, rewards: torch.Tensor):\n",
    "    if i_episode % 50 == 0:\n",
    "        print('Episode {}\\tLast reward: {:.2f}\\tAverage reward: {:.2f}\\t'.format(\n",
    "              i_episode, ep_reward, running_reward))\n",
    "        \n",
    "    if running_reward > env.spec.reward_threshold:\n",
    "        t = rewards.size()[0]\n",
    "        print(\"Solved - epiosde {}! Running reward is now {} and \"\n",
    "              \"the last episode runs to {} time steps!\".format(i_episode, running_reward, t))\n",
    "    "
   ]
  },
  {
   "cell_type": "markdown",
   "metadata": {},
   "source": [
    "## Run training"
   ]
  },
  {
   "cell_type": "code",
   "execution_count": 5,
   "metadata": {},
   "outputs": [
    {
     "name": "stdout",
     "output_type": "stream",
     "text": [
      "Episode 0\tLast reward: 15.00\tAverage reward: 15.00\t\n",
      "Episode 50\tLast reward: 120.00\tAverage reward: 69.68\t\n",
      "Episode 100\tLast reward: 441.00\tAverage reward: 211.32\t\n",
      "Episode 150\tLast reward: 82.00\tAverage reward: 183.56\t\n",
      "Episode 200\tLast reward: 160.00\tAverage reward: 158.46\t\n",
      "Episode 250\tLast reward: 170.00\tAverage reward: 134.69\t\n",
      "Episode 300\tLast reward: 242.00\tAverage reward: 129.85\t\n",
      "Episode 350\tLast reward: 220.00\tAverage reward: 192.77\t\n",
      "Episode 400\tLast reward: 141.00\tAverage reward: 216.40\t\n",
      "Episode 450\tLast reward: 137.00\tAverage reward: 148.45\t\n",
      "Episode 500\tLast reward: 131.00\tAverage reward: 122.43\t\n",
      "Episode 550\tLast reward: 237.00\tAverage reward: 175.80\t\n",
      "Episode 600\tLast reward: 137.00\tAverage reward: 159.49\t\n",
      "Episode 650\tLast reward: 172.00\tAverage reward: 95.64\t\n",
      "Episode 700\tLast reward: 355.00\tAverage reward: 270.96\t\n",
      "Episode 750\tLast reward: 241.00\tAverage reward: 330.47\t\n",
      "Episode 800\tLast reward: 393.00\tAverage reward: 257.40\t\n",
      "Episode 850\tLast reward: 128.00\tAverage reward: 188.29\t\n",
      "Episode 900\tLast reward: 500.00\tAverage reward: 359.15\t\n",
      "Episode 950\tLast reward: 135.00\tAverage reward: 316.32\t\n",
      "Episode 1000\tLast reward: 188.00\tAverage reward: 148.88\t\n",
      "Episode 1050\tLast reward: 166.00\tAverage reward: 296.34\t\n",
      "Episode 1100\tLast reward: 237.00\tAverage reward: 265.83\t\n",
      "Episode 1150\tLast reward: 140.00\tAverage reward: 175.82\t\n",
      "Episode 1200\tLast reward: 124.00\tAverage reward: 143.99\t\n",
      "Episode 1250\tLast reward: 104.00\tAverage reward: 149.33\t\n",
      "Episode 1300\tLast reward: 217.00\tAverage reward: 172.82\t\n",
      "Episode 1350\tLast reward: 323.00\tAverage reward: 355.13\t\n",
      "Episode 1400\tLast reward: 116.00\tAverage reward: 206.32\t\n",
      "Episode 1450\tLast reward: 201.00\tAverage reward: 145.45\t\n",
      "Episode 1500\tLast reward: 220.00\tAverage reward: 162.38\t\n",
      "Episode 1550\tLast reward: 220.00\tAverage reward: 257.34\t\n",
      "Episode 1600\tLast reward: 138.00\tAverage reward: 239.05\t\n",
      "Episode 1650\tLast reward: 123.00\tAverage reward: 135.98\t\n",
      "Episode 1700\tLast reward: 184.00\tAverage reward: 147.06\t\n",
      "Episode 1750\tLast reward: 203.00\tAverage reward: 150.38\t\n",
      "Episode 1800\tLast reward: 500.00\tAverage reward: 422.23\t\n",
      "Episode 1850\tLast reward: 425.00\tAverage reward: 324.12\t\n",
      "Episode 1900\tLast reward: 152.00\tAverage reward: 157.46\t\n",
      "Episode 1950\tLast reward: 224.00\tAverage reward: 204.11\t\n",
      "Episode 2000\tLast reward: 193.00\tAverage reward: 182.65\t\n",
      "Episode 2050\tLast reward: 319.00\tAverage reward: 163.21\t\n",
      "Episode 2100\tLast reward: 166.00\tAverage reward: 179.02\t\n",
      "Episode 2150\tLast reward: 77.00\tAverage reward: 96.44\t\n",
      "Episode 2200\tLast reward: 96.00\tAverage reward: 83.21\t\n",
      "Episode 2250\tLast reward: 123.00\tAverage reward: 106.08\t\n",
      "Episode 2300\tLast reward: 104.00\tAverage reward: 110.65\t\n",
      "Episode 2350\tLast reward: 120.00\tAverage reward: 102.65\t\n",
      "Episode 2400\tLast reward: 150.00\tAverage reward: 112.37\t\n",
      "Episode 2450\tLast reward: 142.00\tAverage reward: 145.95\t\n",
      "Episode 2500\tLast reward: 128.00\tAverage reward: 136.77\t\n",
      "Episode 2550\tLast reward: 116.00\tAverage reward: 127.33\t\n",
      "Episode 2600\tLast reward: 65.00\tAverage reward: 112.24\t\n",
      "Episode 2650\tLast reward: 114.00\tAverage reward: 102.66\t\n",
      "Episode 2700\tLast reward: 61.00\tAverage reward: 92.51\t\n",
      "Episode 2750\tLast reward: 106.00\tAverage reward: 100.25\t\n",
      "Episode 2800\tLast reward: 140.00\tAverage reward: 117.59\t\n",
      "Episode 2850\tLast reward: 197.00\tAverage reward: 147.80\t\n",
      "Episode 2900\tLast reward: 124.00\tAverage reward: 143.02\t\n",
      "Episode 2950\tLast reward: 134.00\tAverage reward: 130.33\t\n",
      "Episode 3000\tLast reward: 132.00\tAverage reward: 124.65\t\n",
      "Episode 3050\tLast reward: 352.00\tAverage reward: 223.56\t\n",
      "Episode 3100\tLast reward: 301.00\tAverage reward: 310.88\t\n",
      "Episode 3150\tLast reward: 500.00\tAverage reward: 432.22\t\n",
      "Episode 3200\tLast reward: 476.00\tAverage reward: 306.67\t\n",
      "Episode 3250\tLast reward: 109.00\tAverage reward: 168.77\t\n",
      "Episode 3300\tLast reward: 110.00\tAverage reward: 118.74\t\n",
      "Episode 3350\tLast reward: 78.00\tAverage reward: 78.38\t\n",
      "Episode 3400\tLast reward: 100.00\tAverage reward: 98.10\t\n",
      "Episode 3450\tLast reward: 118.00\tAverage reward: 115.01\t\n",
      "Episode 3500\tLast reward: 162.00\tAverage reward: 179.44\t\n",
      "Episode 3550\tLast reward: 114.00\tAverage reward: 159.98\t\n",
      "Episode 3600\tLast reward: 131.00\tAverage reward: 139.02\t\n",
      "Episode 3650\tLast reward: 145.00\tAverage reward: 152.48\t\n",
      "Episode 3700\tLast reward: 116.00\tAverage reward: 113.22\t\n",
      "Episode 3750\tLast reward: 118.00\tAverage reward: 99.51\t\n",
      "Episode 3800\tLast reward: 149.00\tAverage reward: 142.31\t\n",
      "Episode 3850\tLast reward: 500.00\tAverage reward: 436.33\t\n",
      "Solved - epiosde 3875! Running reward is now 475.01098547233664 and the last episode runs to 500 time steps!\n"
     ]
    }
   ],
   "source": [
    "running_reward = None\n",
    "for i_episode in range(4000):\n",
    "    agent, rewards = run_episode(agent, env)\n",
    "    ep_reward = rewards.sum().item()\n",
    "    \n",
    "    if running_reward is None:\n",
    "        running_reward = ep_reward\n",
    "    else:\n",
    "        running_reward = 0.05 * ep_reward + (1 - 0.05) * running_reward\n",
    "    print_epiode_stats(i_episode, ep_reward, running_reward, env, rewards)\n",
    "        \n",
    "    if running_reward > env.spec.reward_threshold:\n",
    "        break\n",
    "\n",
    "    agent.update_policy(rewards)"
   ]
  },
  {
   "cell_type": "markdown",
   "metadata": {},
   "source": [
    "## See the results"
   ]
  },
  {
   "cell_type": "code",
   "execution_count": 6,
   "metadata": {},
   "outputs": [
    {
     "data": {
      "image/png": "[encoded data removed]",
      "text/plain": [
       "<Figure size 432x288 with 1 Axes>"
      ]
     },
     "metadata": {
      "needs_background": "light"
     },
     "output_type": "display_data"
    }
   ],
   "source": [
    "obs = env.reset()\n",
    "\n",
    "img = plt.imshow(env.render(mode='rgb_array')) # only call this once\n",
    "for i in range(300):\n",
    "    img.set_data(env.render(mode='rgb_array')) # just update the data\n",
    "    display.display(plt.gcf())\n",
    "    display.clear_output(wait=True)\n",
    "    \n",
    "    action = agent(obs)\n",
    "    obs, rew, done, info = env.step(action)\n",
    "    \n",
    "    if done:\n",
    "        break"
   ]
  }
 ],
 "metadata": {
  "kernelspec": {
   "display_name": "Python 3",
   "language": "python",
   "name": "python3"
  },
  "language_info": {
   "codemirror_mode": {
    "name": "ipython",
    "version": 3
   },
   "file_extension": ".py",
   "mimetype": "text/x-python",
   "name": "python",
   "nbconvert_exporter": "python",
   "pygments_lexer": "ipython3",
   "version": "3.7.3"
  }
 },
 "nbformat": 4,
 "nbformat_minor": 4
}
